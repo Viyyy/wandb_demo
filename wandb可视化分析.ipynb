{
 "cells": [
  {
   "cell_type": "markdown",
   "metadata": {
    "slideshow": {
     "slide_type": "slide"
    }
   },
   "source": [
    "<h1 style=\"text-align:center;\"><a href=\"https://docs.wandb.ai/\" target=\"_blank\">Weights and Biases(wandb)</a></h1>\n",
    "<p style=\"text-align:center;\">模型训练可视化分析<p>\n",
    "<p style=\"text-align:center;font-size:18px;\">2024-07-09</p>"
   ]
  },
  {
   "cell_type": "markdown",
   "metadata": {
    "slideshow": {
     "slide_type": "slide"
    }
   },
   "source": [
    "### 特性\n",
    "\n",
    "* 日志上传云端永久存储，便于分享不怕丢失。\n",
    "\n",
    "* 可以存管代码,数据集和模型的版本，随时复现。(wandb.Artifact)\n",
    "\n",
    "* 可以使用交互式表格进行case分析(wandb.Table)\n",
    "\n",
    "* 可以自动化模型调参。(wandb.sweep)"
   ]
  },
  {
   "cell_type": "markdown",
   "metadata": {
    "slideshow": {
     "slide_type": "slide"
    }
   },
   "source": [
    "### 核心功能\n",
    "\n",
    "1. 实验跟踪：experiment tracking （wandb.log）\n",
    "\n",
    "2. 版本管理：version management (wandb.log_artifact, wandb.save)\n",
    "\n",
    "3. case分析：case visualization (wandb.Table, wandb.Image)\n",
    "\n",
    "4. 超参调优：model optimization (wandb.sweep)"
   ]
  },
  {
   "cell_type": "markdown",
   "metadata": {
    "slideshow": {
     "slide_type": "slide"
    }
   },
   "source": [
    "#### 安装"
   ]
  },
  {
   "cell_type": "code",
   "execution_count": 1,
   "metadata": {},
   "outputs": [],
   "source": [
    "# !pip install wandb"
   ]
  },
  {
   "cell_type": "markdown",
   "metadata": {
    "slideshow": {
     "slide_type": "slide"
    }
   },
   "source": [
    "#### <a href=\"https://wandb.ai/login\" target=\"_blank\">注册</a>, 右上角中找到Quickstart，获取API Key\n",
    "<div style=\"text-align:center\"><img src=\"image/index/1719988297636.png\" width=\"500px\" style=\"border-radius: 10px;border: 1px solid #ddd;\"></div>\n",
    "<div style=\"text-align:center\"><img src=\"image/index/1719988151134.png\" width=\"500px\" style=\"border-radius: 10px;border: 1px solid #ddd;\"></div>"
   ]
  },
  {
   "cell_type": "markdown",
   "metadata": {
    "slideshow": {
     "slide_type": "slide"
    }
   },
   "source": [
    "#### 登陆\n",
    "* <p style=\"font-size:20px\">设置环境变量: <strong>WANDB_API_KEY=@your_api_key</strong>(建议写在.env文件中)</p>"
   ]
  },
  {
   "cell_type": "code",
   "execution_count": 2,
   "metadata": {},
   "outputs": [
    {
     "name": "stderr",
     "output_type": "stream",
     "text": [
      "Failed to detect the name of this notebook, you can set it manually with the WANDB_NOTEBOOK_NAME environment variable to enable code saving.\n",
      "\u001b[34m\u001b[1mwandb\u001b[0m: Currently logged in as: \u001b[33mreviy\u001b[0m (\u001b[33mesil\u001b[0m). Use \u001b[1m`wandb login --relogin`\u001b[0m to force relogin\n",
      "\u001b[34m\u001b[1mwandb\u001b[0m: \u001b[33mWARNING\u001b[0m If you're specifying your api key in code, ensure this code is not shared publicly.\n",
      "\u001b[34m\u001b[1mwandb\u001b[0m: \u001b[33mWARNING\u001b[0m Consider setting the WANDB_API_KEY environment variable, or running `wandb login` from the command line.\n",
      "\u001b[34m\u001b[1mwandb\u001b[0m: Appending key for api.wandb.ai to your netrc file: /Users/hehaowen/.netrc\n"
     ]
    },
    {
     "data": {
      "text/plain": [
       "True"
      ]
     },
     "execution_count": 2,
     "metadata": {},
     "output_type": "execute_result"
    }
   ],
   "source": [
    "import os\n",
    "from dotenv import load_dotenv\n",
    "load_dotenv()\n",
    "\n",
    "import wandb\n",
    "wandb.login(key=os.getenv(\"WANDB_API_KEY\"))"
   ]
  },
  {
   "cell_type": "markdown",
   "metadata": {
    "slideshow": {
     "slide_type": "slide"
    }
   },
   "source": [
    "#### 设置参数"
   ]
  },
  {
   "cell_type": "code",
   "execution_count": 3,
   "metadata": {},
   "outputs": [
    {
     "data": {
      "text/plain": [
       "'cpu'"
      ]
     },
     "execution_count": 3,
     "metadata": {},
     "output_type": "execute_result"
    }
   ],
   "source": [
    "import torch\n",
    "from argparse import Namespace\n",
    "\n",
    "config = Namespace(\n",
    "    project_name = \"wandb_esc10_demo\", # wandb项目名称\n",
    "    data_dir = 'ESC-50-master/audio', # 音频文件目录\n",
    "    meta_file = 'ESC-50-master/meta/esc50.csv', # 元数据文件\n",
    "    sr = 22050, # 采样率\n",
    "    duration = 5, # 音频时长\n",
    "    epochs = 10, # 训练轮数\n",
    "    batch_size = 32, # 批次大小\n",
    "    lr = 0.001, # 学习率\n",
    "    random_seed = 1202, # 随机种子\n",
    "    n_fft = 1024, # FFT的窗长\n",
    "    hop_length = 512, # 窗步长\n",
    "    n_mels = 64, # 梅尔滤波器组的数量\n",
    "    dropout = 0.1, # 丢弃率\n",
    ")\n",
    "device = 'cuda' if torch.cuda.is_available() else 'cpu' # 选择设备\n",
    "device"
   ]
  },
  {
   "cell_type": "markdown",
   "metadata": {
    "slideshow": {
     "slide_type": "slide"
    }
   },
   "source": [
    "#### 读取元数据文件"
   ]
  },
  {
   "cell_type": "code",
   "execution_count": 4,
   "metadata": {},
   "outputs": [
    {
     "data": {
      "text/html": [
       "<div>\n",
       "<style scoped>\n",
       "    .dataframe tbody tr th:only-of-type {\n",
       "        vertical-align: middle;\n",
       "    }\n",
       "\n",
       "    .dataframe tbody tr th {\n",
       "        vertical-align: top;\n",
       "    }\n",
       "\n",
       "    .dataframe thead th {\n",
       "        text-align: right;\n",
       "    }\n",
       "</style>\n",
       "<table border=\"1\" class=\"dataframe\">\n",
       "  <thead>\n",
       "    <tr style=\"text-align: right;\">\n",
       "      <th></th>\n",
       "      <th>0</th>\n",
       "      <th>1</th>\n",
       "      <th>2</th>\n",
       "      <th>3</th>\n",
       "      <th>4</th>\n",
       "      <th>5</th>\n",
       "      <th>6</th>\n",
       "      <th>7</th>\n",
       "      <th>8</th>\n",
       "      <th>9</th>\n",
       "    </tr>\n",
       "  </thead>\n",
       "  <tbody>\n",
       "    <tr>\n",
       "      <th>category</th>\n",
       "      <td>dog</td>\n",
       "      <td>chainsaw</td>\n",
       "      <td>crackling_fire</td>\n",
       "      <td>helicopter</td>\n",
       "      <td>rain</td>\n",
       "      <td>crying_baby</td>\n",
       "      <td>clock_tick</td>\n",
       "      <td>sneezing</td>\n",
       "      <td>rooster</td>\n",
       "      <td>sea_waves</td>\n",
       "    </tr>\n",
       "  </tbody>\n",
       "</table>\n",
       "</div>"
      ],
      "text/plain": [
       "            0         1               2           3     4            5  \\\n",
       "category  dog  chainsaw  crackling_fire  helicopter  rain  crying_baby   \n",
       "\n",
       "                   6         7        8          9  \n",
       "category  clock_tick  sneezing  rooster  sea_waves  "
      ]
     },
     "execution_count": 4,
     "metadata": {},
     "output_type": "execute_result"
    }
   ],
   "source": [
    "import pandas as pd\n",
    "df = pd.read_csv(config.meta_file)\n",
    "df = df[df['esc10']==True] # 只选取esc10的音频\n",
    "categoties = df['category'].unique() # 10个类别\n",
    "label_df = pd.DataFrame({'category': categoties})\n",
    "label_df.T"
   ]
  },
  {
   "cell_type": "code",
   "execution_count": 5,
   "metadata": {},
   "outputs": [
    {
     "data": {
      "text/html": [
       "<div>\n",
       "<style scoped>\n",
       "    .dataframe tbody tr th:only-of-type {\n",
       "        vertical-align: middle;\n",
       "    }\n",
       "\n",
       "    .dataframe tbody tr th {\n",
       "        vertical-align: top;\n",
       "    }\n",
       "\n",
       "    .dataframe thead th {\n",
       "        text-align: right;\n",
       "    }\n",
       "</style>\n",
       "<table border=\"1\" class=\"dataframe\">\n",
       "  <thead>\n",
       "    <tr style=\"text-align: right;\">\n",
       "      <th></th>\n",
       "      <th>filename</th>\n",
       "      <th>fold</th>\n",
       "      <th>target</th>\n",
       "      <th>category</th>\n",
       "      <th>esc10</th>\n",
       "      <th>src_file</th>\n",
       "      <th>take</th>\n",
       "      <th>label</th>\n",
       "    </tr>\n",
       "  </thead>\n",
       "  <tbody>\n",
       "    <tr>\n",
       "      <th>0</th>\n",
       "      <td>1-100032-A-0.wav</td>\n",
       "      <td>1</td>\n",
       "      <td>0</td>\n",
       "      <td>dog</td>\n",
       "      <td>True</td>\n",
       "      <td>100032</td>\n",
       "      <td>A</td>\n",
       "      <td>0</td>\n",
       "    </tr>\n",
       "    <tr>\n",
       "      <th>14</th>\n",
       "      <td>1-110389-A-0.wav</td>\n",
       "      <td>1</td>\n",
       "      <td>0</td>\n",
       "      <td>dog</td>\n",
       "      <td>True</td>\n",
       "      <td>110389</td>\n",
       "      <td>A</td>\n",
       "      <td>0</td>\n",
       "    </tr>\n",
       "    <tr>\n",
       "      <th>24</th>\n",
       "      <td>1-116765-A-41.wav</td>\n",
       "      <td>1</td>\n",
       "      <td>41</td>\n",
       "      <td>chainsaw</td>\n",
       "      <td>True</td>\n",
       "      <td>116765</td>\n",
       "      <td>A</td>\n",
       "      <td>1</td>\n",
       "    </tr>\n",
       "  </tbody>\n",
       "</table>\n",
       "</div>"
      ],
      "text/plain": [
       "             filename  fold  target  category  esc10  src_file take  label\n",
       "0    1-100032-A-0.wav     1       0       dog   True    100032    A      0\n",
       "14   1-110389-A-0.wav     1       0       dog   True    110389    A      0\n",
       "24  1-116765-A-41.wav     1      41  chainsaw   True    116765    A      1"
      ]
     },
     "execution_count": 5,
     "metadata": {},
     "output_type": "execute_result"
    }
   ],
   "source": [
    "df['label'] = df['category'].apply(lambda x: categoties.tolist().index(x))\n",
    "df.head(3)"
   ]
  },
  {
   "cell_type": "markdown",
   "metadata": {},
   "source": [
    "#### 拆分训练集和测试集"
   ]
  },
  {
   "cell_type": "code",
   "execution_count": 6,
   "metadata": {},
   "outputs": [
    {
     "data": {
      "text/plain": [
       "(320, 80, 320, 80)"
      ]
     },
     "execution_count": 6,
     "metadata": {},
     "output_type": "execute_result"
    }
   ],
   "source": [
    "from sklearn.model_selection import train_test_split\n",
    "\n",
    "X, y = df['filename'].values, df['label'].values \n",
    "X_train, X_test, y_train, y_test = train_test_split(X, y, test_size=0.2, random_state=config.random_seed)\n",
    "len(X_train), len(X_test), len(y_train), len(y_test)"
   ]
  },
  {
   "cell_type": "markdown",
   "metadata": {
    "slideshow": {
     "slide_type": "slide"
    }
   },
   "source": [
    "#### 构建数据集"
   ]
  },
  {
   "cell_type": "code",
   "execution_count": 7,
   "metadata": {},
   "outputs": [
    {
     "data": {
      "text/plain": [
       "torch.Size([1, 64, 216])"
      ]
     },
     "execution_count": 7,
     "metadata": {},
     "output_type": "execute_result"
    }
   ],
   "source": [
    "from torchaudio.transforms import MelSpectrogram\n",
    "from dataset import AudioDataset\n",
    "\n",
    "dataset_params = {\n",
    "    'data_dir': config.data_dir,\n",
    "    'sr': config.sr,\n",
    "    'duration': config.duration,\n",
    "    'device': device,\n",
    "    'transform': MelSpectrogram(\n",
    "        sample_rate=config.sr,\n",
    "        n_fft=config.n_fft,\n",
    "        hop_length=config.hop_length,\n",
    "        n_mels=config.n_mels\n",
    "    )\n",
    "}\n",
    "train_dataset = AudioDataset(X=X_train, y=y_train, **dataset_params)\n",
    "test_dataset = AudioDataset(X=X_test, y=y_test, **dataset_params)\n",
    "train_dataset[0][0].shape"
   ]
  },
  {
   "cell_type": "markdown",
   "metadata": {
    "slideshow": {
     "slide_type": "slide"
    }
   },
   "source": [
    "#### 创建Dataloaders"
   ]
  },
  {
   "cell_type": "code",
   "execution_count": 8,
   "metadata": {},
   "outputs": [
    {
     "data": {
      "text/plain": [
       "(torch.Size([32, 1, 64, 216]), torch.Size([32]))"
      ]
     },
     "execution_count": 8,
     "metadata": {},
     "output_type": "execute_result"
    }
   ],
   "source": [
    "from torch.utils.data import DataLoader\n",
    "\n",
    "train_dataloader = DataLoader(train_dataset, batch_size=config.batch_size, shuffle=True)\n",
    "test_dataloader = DataLoader(test_dataset, batch_size=config.batch_size, shuffle=False)\n",
    "for _, (data, target) in enumerate(train_dataloader):\n",
    "    data_shape, target_shape = data.shape, target.shape\n",
    "    break\n",
    "data_shape, target_shape"
   ]
  },
  {
   "cell_type": "markdown",
   "metadata": {
    "slideshow": {
     "slide_type": "slide"
    }
   },
   "source": [
    "#### 创建模型"
   ]
  },
  {
   "cell_type": "code",
   "execution_count": 9,
   "metadata": {},
   "outputs": [
    {
     "data": {
      "text/plain": [
       "CNN10(num_class=10, input_size=216, dropout=0.1)"
      ]
     },
     "execution_count": 9,
     "metadata": {},
     "output_type": "execute_result"
    }
   ],
   "source": [
    "from models.panns import CNN10\n",
    "model = CNN10(num_class=len(categoties), input_size=data_shape[-1], dropout=config.dropout)\n",
    "model.to(device)"
   ]
  },
  {
   "cell_type": "markdown",
   "metadata": {},
   "source": [
    "#### 创建optimizer, loss function"
   ]
  },
  {
   "cell_type": "code",
   "execution_count": 10,
   "metadata": {},
   "outputs": [],
   "source": [
    "from torch import nn\n",
    "optimize = torch.optim.Adam(model.parameters(), lr=config.lr)\n",
    "loss_func = nn.CrossEntropyLoss().to(device)"
   ]
  },
  {
   "cell_type": "markdown",
   "metadata": {
    "slideshow": {
     "slide_type": "slide"
    }
   },
   "source": [
    "#### 定义训练方法"
   ]
  },
  {
   "cell_type": "code",
   "execution_count": 11,
   "metadata": {},
   "outputs": [],
   "source": [
    "def train_an_epoch(model, optimizer, data_loader, device, loss_func):\n",
    "    model.train()\n",
    "    running_loss = 0.0\n",
    "    for batch_idx, (features, labels) in enumerate(data_loader):\n",
    "        features = features.to(device)\n",
    "        labels = labels.to(device)\n",
    "        optimizer.zero_grad()\n",
    "        outputs = model(features)\n",
    "        loss = loss_func(outputs, labels)\n",
    "        loss.backward()\n",
    "        optimizer.step()\n",
    "        running_loss += loss.item()\n",
    "    return running_loss / len(data_loader)"
   ]
  },
  {
   "cell_type": "markdown",
   "metadata": {
    "slideshow": {
     "slide_type": "slide"
    }
   },
   "source": [
    "#### 定义测试方法"
   ]
  },
  {
   "cell_type": "code",
   "execution_count": 12,
   "metadata": {},
   "outputs": [],
   "source": [
    "def test_an_epoch(model, data_loader, device, loss_func):\n",
    "    model.eval()\n",
    "    total_loss = 0\n",
    "    correct = 0\n",
    "    total = 0\n",
    "    with torch.no_grad():\n",
    "        for i, (features, labels) in enumerate(data_loader):\n",
    "            features = features.to(device)\n",
    "            labels = labels.to(device)\n",
    "            outputs = model(features)\n",
    "            loss = loss_func(outputs, labels)\n",
    "            total_loss += loss.item()\n",
    "            outputs = torch.softmax(outputs, dim=1)"
   ]
  }
 ],
 "metadata": {
  "kernelspec": {
   "display_name": "Python 3 (ipykernel)",
   "language": "python",
   "name": "python3"
  },
  "language_info": {
   "codemirror_mode": {
    "name": "ipython",
    "version": 3
   },
   "file_extension": ".py",
   "mimetype": "text/x-python",
   "name": "python",
   "nbconvert_exporter": "python",
   "pygments_lexer": "ipython3",
   "version": "3.11.8"
  }
 },
 "nbformat": 4,
 "nbformat_minor": 4
}
