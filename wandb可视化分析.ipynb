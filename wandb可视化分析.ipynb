{
 "cells": [
  {
   "cell_type": "markdown",
   "metadata": {
    "slideshow": {
     "slide_type": "slide"
    }
   },
   "source": [
    "<h1 style=\"text-align:center;\"><a href=\"https://docs.wandb.ai/\" target=\"_blank\">Weights and Biases(wandb)</a></h1>\n",
    "<p style=\"text-align:center;\">模型训练可视化分析<p>\n",
    "<p style=\"text-align:center;font-size:18px;\">2024-07-09</p>"
   ]
  },
  {
   "cell_type": "markdown",
   "metadata": {
    "slideshow": {
     "slide_type": "slide"
    }
   },
   "source": [
    "### 特性\n",
    "\n",
    "* 日志上传云端永久存储，便于分享不怕丢失。\n",
    "\n",
    "* 可以存管代码,数据集和模型的版本，随时复现。(wandb.Artifact)\n",
    "\n",
    "* 可以使用交互式表格进行case分析(wandb.Table)\n",
    "\n",
    "* 可以自动化模型调参。(wandb.sweep)"
   ]
  },
  {
   "cell_type": "markdown",
   "metadata": {
    "slideshow": {
     "slide_type": "slide"
    }
   },
   "source": [
    "### 核心功能\n",
    "\n",
    "1. 实验跟踪：experiment tracking （wandb.log）\n",
    "\n",
    "2. 版本管理：version management (wandb.log_artifact, wandb.save)\n",
    "\n",
    "3. case分析：case visualization (wandb.Table, wandb.Image)\n",
    "\n",
    "4. 超参调优：model optimization (wandb.sweep)"
   ]
  },
  {
   "cell_type": "markdown",
   "metadata": {
    "slideshow": {
     "slide_type": "slide"
    }
   },
   "source": [
    "### 以ESC-10数据集为例，展示如何使用wandb进行可视化分析\n",
    "\n",
    "<p style=\"font-size:28px\">数据集下载: <a href=\"https://github.com/karoldvl/ESC-50/archive/master.zip\" target=\"_blank\">ESC-50</a></p>\n",
    "\n",
    "<div style=\"text-align:center\"><img src=\"image/index/1720083382984.png\" width=\"70%\" style=\"border-radius: 10px;border: 2px solid #ddd;\"></div>"
   ]
  },
  {
   "cell_type": "markdown",
   "metadata": {
    "slideshow": {
     "slide_type": "slide"
    }
   },
   "source": [
    "#### 1 安装wandb"
   ]
  },
  {
   "cell_type": "code",
   "execution_count": null,
   "metadata": {},
   "outputs": [],
   "source": [
    "# !pip install wandb"
   ]
  },
  {
   "cell_type": "markdown",
   "metadata": {
    "slideshow": {
     "slide_type": "slide"
    }
   },
   "source": [
    "#### 2 <a href=\"https://wandb.ai/login\" target=\"_blank\">注册</a>, 右上角中找到Quickstart，获取API Key\n",
    "<div style=\"text-align:center\"><img src=\"image/index/1719988297636.png\" width=\"500px\" style=\"border-radius: 10px;border: 1px solid #ddd;\"></div>\n",
    "<div style=\"text-align:center\"><img src=\"image/index/1719988151134.png\" width=\"500px\" style=\"border-radius: 10px;border: 1px solid #ddd;\"></div>"
   ]
  },
  {
   "cell_type": "markdown",
   "metadata": {
    "slideshow": {
     "slide_type": "slide"
    }
   },
   "source": [
    "#### 3 登陆\n",
    "* <p style=\"font-size:20px\">设置环境变量: <strong>WANDB_API_KEY=@your_api_key</strong>(建议写在.env文件中)</p>"
   ]
  },
  {
   "cell_type": "code",
   "execution_count": null,
   "metadata": {},
   "outputs": [],
   "source": [
    "import os\n",
    "from dotenv import load_dotenv\n",
    "load_dotenv()\n",
    "\n",
    "import wandb\n",
    "wandb.login(key=os.getenv(\"WANDB_API_KEY\"))"
   ]
  },
  {
   "cell_type": "markdown",
   "metadata": {
    "slideshow": {
     "slide_type": "slide"
    }
   },
   "source": [
    "### 4 模型训练中加入wandb\n",
    "#### 4-0 引入依赖库"
   ]
  },
  {
   "cell_type": "code",
   "execution_count": null,
   "metadata": {},
   "outputs": [],
   "source": [
    "import torch\n",
    "from argparse import Namespace\n",
    "from datetime import datetime\n",
    "import pandas as pd\n",
    "from sklearn.model_selection import train_test_split\n",
    "from torchaudio.transforms import MelSpectrogram\n",
    "from dataset import AudioDataset\n",
    "from torch.utils.data import DataLoader\n",
    "from models.panns import CNN10\n",
    "from torch import nn\n",
    "from tqdm import tqdm\n",
    "from utils import df2table, log2wandb, train_an_epoch, test_an_epoch"
   ]
  },
  {
   "cell_type": "markdown",
   "metadata": {
    "slideshow": {
     "slide_type": "slide"
    }
   },
   "source": [
    "#### 4-1 参数设置"
   ]
  },
  {
   "cell_type": "code",
   "execution_count": null,
   "metadata": {},
   "outputs": [],
   "source": [
    "config = Namespace(\n",
    "    project_name = \"wandb_esc10_demo\", # wandb项目名称\n",
    "    data_dir = 'ESC-50-master/audio', # 音频文件目录\n",
    "    meta_file = 'ESC-50-master/meta/esc50.csv', # 元数据文件\n",
    "    sr = 22050, # 采样率\n",
    "    duration = 5, # 音频时长\n",
    "    epochs = 10, # 训练轮数\n",
    "    batch_size = 32, # 批次大小\n",
    "    lr = 0.001, # 学习率\n",
    "    step_size = 4, # 步长\n",
    "    gamma = 0.7, # 学习率衰减率\n",
    "    random_seed = 1202, # 随机种子\n",
    "    n_fft = 1024, # FFT的窗长\n",
    "    hop_length = 512, # 窗步长\n",
    "    n_mels = 64, # 梅尔滤波器组的数量\n",
    "    dropout = 0.1, # 丢弃率\n",
    ")\n",
    "device = 'cuda' if torch.cuda.is_available() else 'cpu' # 选择设备\n",
    "device"
   ]
  },
  {
   "cell_type": "markdown",
   "metadata": {
    "slideshow": {
     "slide_type": "slide"
    }
   },
   "source": [
    "#### 初始化wandb项目"
   ]
  },
  {
   "cell_type": "code",
   "execution_count": null,
   "metadata": {},
   "outputs": [],
   "source": [
    "ENABLE_WANDB = True  # 是否开启wandb可视化分析功能\n",
    "# ⭐ 初始化wandb项目\n",
    "if ENABLE_WANDB:\n",
    "    wandb.init(\n",
    "        project=config.project_name,\n",
    "        config=config.__dict__,\n",
    "        name=datetime.now().strftime(\"%Y%m%d_%H%M%S\"),\n",
    "    )"
   ]
  },
  {
   "cell_type": "markdown",
   "metadata": {
    "slideshow": {
     "slide_type": "slide"
    }
   },
   "source": [
    "#### 4-2 预处理\n",
    "##### 读取元数据文件"
   ]
  },
  {
   "cell_type": "code",
   "execution_count": null,
   "metadata": {},
   "outputs": [],
   "source": [
    "df = pd.read_csv(config.meta_file)\n",
    "df = df[df['esc10']==True] # 只选取esc10的音频\n",
    "categoties = df['category'].unique() # 10个类别\n",
    "df['label'] = df['category'].apply(lambda x: categoties.tolist().index(x)) # 给每个音频打上标签\n",
    "label_df = pd.DataFrame({'category': categoties, \"length\": [len(df[df['category']==c]) for c in categoties]})\n",
    "label_df.T"
   ]
  },
  {
   "cell_type": "code",
   "execution_count": null,
   "metadata": {},
   "outputs": [],
   "source": [
    "# ⭐ 记录分类到wandb\n",
    "if ENABLE_WANDB:\n",
    "    wandb.log({'Labels': df2table(label_df)})"
   ]
  },
  {
   "cell_type": "markdown",
   "metadata": {},
   "source": [
    "##### 拆分训练集和测试集"
   ]
  },
  {
   "cell_type": "code",
   "execution_count": null,
   "metadata": {},
   "outputs": [],
   "source": [
    "X, y = df['filename'].values, df['label'].values \n",
    "X_train, X_test, y_train, y_test = train_test_split(X, y, test_size=0.2, random_state=config.random_seed)\n",
    "len(X_train), len(X_test), len(y_train), len(y_test)"
   ]
  },
  {
   "cell_type": "markdown",
   "metadata": {
    "slideshow": {
     "slide_type": "slide"
    }
   },
   "source": [
    "#### 4-3 构建数据集"
   ]
  },
  {
   "cell_type": "code",
   "execution_count": null,
   "metadata": {},
   "outputs": [],
   "source": [
    "dataset_params = {\n",
    "    'data_dir': config.data_dir,\n",
    "    'sr': config.sr,\n",
    "    'duration': config.duration,\n",
    "    'device': device,\n",
    "    'transform': MelSpectrogram(\n",
    "        sample_rate=config.sr,\n",
    "        n_fft=config.n_fft,\n",
    "        hop_length=config.hop_length,\n",
    "        n_mels=config.n_mels\n",
    "    )\n",
    "}\n",
    "train_dataset = AudioDataset(X=X_train, y=y_train, **dataset_params)\n",
    "test_dataset = AudioDataset(X=X_test, y=y_test, **dataset_params)\n",
    "train_dataset[0][0].shape"
   ]
  },
  {
   "cell_type": "markdown",
   "metadata": {
    "slideshow": {
     "slide_type": "slide"
    }
   },
   "source": [
    "#### 4-4 创建Dataloaders"
   ]
  },
  {
   "cell_type": "code",
   "execution_count": null,
   "metadata": {},
   "outputs": [],
   "source": [
    "train_dataloader = DataLoader(train_dataset, batch_size=config.batch_size, shuffle=True)\n",
    "test_dataloader = DataLoader(test_dataset, batch_size=config.batch_size, shuffle=False)\n",
    "for _, (data, target, _) in enumerate(train_dataloader):\n",
    "    data_shape, target_shape = data.shape, target.shape\n",
    "    break\n",
    "data_shape, target_shape"
   ]
  },
  {
   "cell_type": "markdown",
   "metadata": {
    "slideshow": {
     "slide_type": "slide"
    }
   },
   "source": [
    "#### 4-5 创建模型"
   ]
  },
  {
   "cell_type": "code",
   "execution_count": null,
   "metadata": {},
   "outputs": [],
   "source": [
    "model = CNN10(\n",
    "    num_class=len(categoties), input_size=data_shape[-1], dropout=config.dropout\n",
    ").to(device)\n",
    "model"
   ]
  },
  {
   "cell_type": "markdown",
   "metadata": {},
   "source": [
    "#### 4-6 定义优化器、lr调度器、损失函数"
   ]
  },
  {
   "cell_type": "code",
   "execution_count": null,
   "metadata": {},
   "outputs": [],
   "source": [
    "optimizer = torch.optim.Adam(model.parameters(), lr=config.lr) # 定义优化器\n",
    "scheduler = torch.optim.lr_scheduler.StepLR(\n",
    "    optimizer, step_size=config.step_size, gamma=config.gamma\n",
    ") # 定义学习率调度器\n",
    "loss_func = nn.CrossEntropyLoss().to(device) # 定义损失函数"
   ]
  },
  {
   "cell_type": "markdown",
   "metadata": {
    "slideshow": {
     "slide_type": "slide"
    }
   },
   "source": [
    "#### 4-7 开始训练"
   ]
  },
  {
   "cell_type": "code",
   "execution_count": null,
   "metadata": {},
   "outputs": [],
   "source": [
    "for epoch in (tqdm_bar:= tqdm(range(config.epochs))):\n",
    "    training_loss = train_an_epoch(\n",
    "        model=model, optimizer=optimizer, scheduler=scheduler, data_loader=train_dataloader, device=device, loss_func=loss_func, tqdm_instance=tqdm_bar\n",
    "    )\n",
    "\n",
    "    testing_loss, accuracy, bad_cases = test_an_epoch(\n",
    "        categoties=categoties, model=model, data_loader=test_dataloader, device=device, loss_func=loss_func, tqdm_instance=tqdm_bar,\n",
    "    )\n",
    "    \n",
    "    # ⭐ 记录数据到wandb\n",
    "    if ENABLE_WANDB:\n",
    "        log2wandb(\n",
    "            epoch=epoch+1, # 迭代次数\n",
    "            training_loss=training_loss, # 训练损失\n",
    "            testing_loss=testing_loss, # 测试损失\n",
    "            accuracy=accuracy, # 准确率\n",
    "            lr=optimizer.param_groups[0][\"lr\"], # 学习率\n",
    "            bad_cases=bad_cases, # 坏样本\n",
    "        )"
   ]
  },
  {
   "cell_type": "markdown",
   "metadata": {
    "slideshow": {
     "slide_type": "slide"
    }
   },
   "source": [
    "#### 结束"
   ]
  },
  {
   "cell_type": "code",
   "execution_count": null,
   "metadata": {},
   "outputs": [],
   "source": [
    "# ⭐ 结束wandb记录\n",
    "if ENABLE_WANDB: \n",
    "    wandb.finish()"
   ]
  },
  {
   "cell_type": "markdown",
   "metadata": {
    "slideshow": {
     "slide_type": "slide"
    }
   },
   "source": [
    "### 其他功能\n",
    "* sweeps: 超参数搜索\n",
    "* artifacts: 保存模型、数据集、日志等\n",
    "* reports: 生成报告\n",
    "\n",
    "<div style=\"text-align:center\"><img src=\"image/index/1720081945391.png\" width=\"80%\" style=\"border-radius: 10px;border: 1px solid #ddd;\">\n",
    "<p style=\"text-align:center;font-size:16px\">超参数搜索及敏感性分析</p>\n",
    "</div>"
   ]
  },
  {
   "cell_type": "markdown",
   "metadata": {
    "slideshow": {
     "slide_type": "slide"
    }
   },
   "source": [
    "#### 参考资料\n",
    "\n",
    "* [WandB 文档](https://docs.wandb.ai/)\n",
    "* [eat_pytorch_in_20_days](https://github.com/lyhue1991/eat_pytorch_in_20_days)"
   ]
  }
 ],
 "metadata": {
  "kernelspec": {
   "display_name": "Python 3 (ipykernel)",
   "language": "python",
   "name": "python3"
  },
  "language_info": {
   "codemirror_mode": {
    "name": "ipython",
    "version": 3
   },
   "file_extension": ".py",
   "mimetype": "text/x-python",
   "name": "python",
   "nbconvert_exporter": "python",
   "pygments_lexer": "ipython3",
   "version": "3.10.13"
  }
 },
 "nbformat": 4,
 "nbformat_minor": 4
}
